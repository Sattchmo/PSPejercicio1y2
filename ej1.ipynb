**Lo mas importante**

- Matematicas
- Programación
- SQL
- Python

![Python Logo](pythonlogo.png)

---

Para ser programador hay que tener **iniciativa**. Si tienes dudas, consulta la documentación. Hay una cantidad inmensa de informaición al respecto. Keep calm and go for it! 

En esta pagina se aprende mucho de python: [page with python course](https://python.org)