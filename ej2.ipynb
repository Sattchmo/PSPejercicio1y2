| Ramp up | Data analysis | Machine learning | Data & Business |
|:---------:|:---------:|:---------:|:---------:|
| Python | EDA | Supervised | Productivización |
| Estadistica | R | Non supervised | Storytelling |
| SQL | Feat. Eng. | Deep Learning | API |

√(3x - 1 + (1 + x)^2)